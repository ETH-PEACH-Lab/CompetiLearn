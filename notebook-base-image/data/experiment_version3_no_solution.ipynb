{
 "cells": [
  {
   "cell_type": "markdown",
   "id": "0d1a20f7",
   "metadata": {},
   "source": [
    "# CompetiLearn User Study"
   ]
  },
  {
   "cell_type": "markdown",
   "id": "bc31f7eb-2338-4d75-b100-389f38f40da3",
   "metadata": {},
   "source": [
    "Welcome to the experiment notebook. In this notebook you are going to tackle the Quora Insincere Questions Classification Kaggle competition. "
   ]
  },
  {
   "cell_type": "markdown",
   "id": "dbeafeb3",
   "metadata": {},
   "source": [
    "## Competition Background"
   ]
  },
  {
   "cell_type": "markdown",
   "id": "2ec08aa6",
   "metadata": {},
   "source": [
    "https://www.kaggle.com/competitions/quora-insincere-questions-classification\n",
    "short info"
   ]
  },
  {
   "cell_type": "markdown",
   "id": "2ee07718",
   "metadata": {},
   "source": [
    "## Tips on using chatbots"
   ]
  },
  {
   "cell_type": "markdown",
   "id": "5b53c96d",
   "metadata": {},
   "source": [
    "1. Try to ask specific questions about the task(e.g. ask \"how to load train.csv file using pandas\" instead of \"how to load the data\")\n",
    "2. As the 4 tasks are relevant to each other, try to include your previous necessary code in your question would be helpful. (e.g. your query can be like: \"your previous code\" + \"your question\")"
   ]
  },
  {
   "cell_type": "markdown",
   "id": "529b3c8c",
   "metadata": {},
   "source": [
    "## Assisting Chatbots Introduction"
   ]
  },
  {
   "cell_type": "markdown",
   "id": "252a37bc",
   "metadata": {},
   "source": [
    "### Alice"
   ]
  },
  {
   "cell_type": "markdown",
   "id": "63df2b84",
   "metadata": {},
   "source": [
    "1. Alice already know you are doing this competition and have knowledge about this competition. Each response from Alice is based on several notebooks submitted to this competition. Alice will provide you with the kaggle posts this response is based on.\n",
    "2. Advanced Search: You can adjust how many Kaggle posts each response is based on and determine the method for retrieving these posts. The available retrieval methods include relevance, votes, and views."
   ]
  },
  {
   "cell_type": "markdown",
   "id": "b70a15d1",
   "metadata": {},
   "source": [
    "### Bob"
   ]
  },
  {
   "cell_type": "markdown",
   "id": "daaf065e",
   "metadata": {},
   "source": [
    "1. Bob already know you are doing this competition and have knowledge about this competition. Each response from Bob is based on several notebooks submitted to this competition.\n",
    "2. Advanced Search: You can adjust how many Kaggle posts each response is based on and determine the method for retrieving these posts. The available retrieval methods include relevance, votes, and views."
   ]
  },
  {
   "cell_type": "markdown",
   "id": "93146850",
   "metadata": {},
   "source": [
    "### Charlie"
   ]
  },
  {
   "cell_type": "markdown",
   "id": "987cd03f",
   "metadata": {},
   "source": [
    "1. Charlie does not know you are doing this competition.\n",
    "2. Charlie does not provide advanced search."
   ]
  },
  {
   "cell_type": "markdown",
   "id": "b053504b",
   "metadata": {},
   "source": [
    "## Task 1: Load and Explore the data"
   ]
  },
  {
   "cell_type": "code",
   "execution_count": 17,
   "id": "dd573dd7",
   "metadata": {},
   "outputs": [
    {
     "name": "stdout",
     "output_type": "stream",
     "text": [
      "                    qid                                      question_text  \\\n",
      "0  00002165364db923c7e6  How did Quebec nationalists see their province...   \n",
      "1  000032939017120e6e44  Do you have an adopted dog, how would you enco...   \n",
      "2  0000412ca6e4628ce2cf  Why does velocity affect time? Does velocity a...   \n",
      "3  000042bf85aa498cd78e  How did Otto von Guericke used the Magdeburg h...   \n",
      "4  0000455dfa3e01eae3af  Can I convert montra helicon D to a mountain b...   \n",
      "\n",
      "   target  \n",
      "0       0  \n",
      "1       0  \n",
      "2       0  \n",
      "3       0  \n",
      "4       0  \n",
      "                    qid                                      question_text\n",
      "0  0000163e3ea7c7a74cd7  Why do so many women become so rude and arroga...\n",
      "1  00002bd4fb5d505b9161  When should I apply for RV college of engineer...\n",
      "2  00007756b4a147d2b0b3  What is it really like to be a nurse practitio...\n",
      "3  000086e4b7e1c7146103                             Who are entrepreneurs?\n",
      "4  0000c4c3fbe8785a3090   Is education really making good people nowadays?\n"
     ]
    }
   ],
   "source": [
    "import pandas as pd\n",
    "\n",
    "# Load the training data\n",
    "train_df = pd.read_csv('data/train.csv')\n",
    "\n",
    "# Load the testing data\n",
    "test_df = pd.read_csv('data/test.csv')\n",
    "\n",
    "# Display the first 5 rows of the training data and the testing data\n",
    "print(train_df.head())\n",
    "print(test_df.head())"
   ]
  },
  {
   "cell_type": "markdown",
   "id": "1d036bf8",
   "metadata": {},
   "source": [
    "1. How many columns do the training and testing datasets contain? What is the meaning of each attribute?"
   ]
  },
  {
   "cell_type": "code",
   "execution_count": null,
   "id": "344d81fe",
   "metadata": {},
   "outputs": [],
   "source": []
  },
  {
   "cell_type": "markdown",
   "id": "5dcc581e",
   "metadata": {},
   "source": [
    "2. Is the training dataset balanced in terms of class distribution?"
   ]
  },
  {
   "cell_type": "code",
   "execution_count": null,
   "id": "b5dc58ce",
   "metadata": {},
   "outputs": [],
   "source": []
  },
  {
   "cell_type": "markdown",
   "id": "a4bc7508",
   "metadata": {},
   "source": [
    "## Task 2: Preprocess and Clean the Data"
   ]
  },
  {
   "cell_type": "markdown",
   "id": "890aeb8a",
   "metadata": {},
   "source": [
    "1. Suppose we find the training dataset is imbalanced. How do we handle imbalanced classes in our dataset."
   ]
  },
  {
   "cell_type": "code",
   "execution_count": null,
   "id": "dcf9f311",
   "metadata": {},
   "outputs": [],
   "source": []
  },
  {
   "cell_type": "markdown",
   "id": "18036f6f",
   "metadata": {},
   "source": [
    "2. Can we feed the dataset directly into the model? If not, what process should be taken ahead?"
   ]
  },
  {
   "cell_type": "code",
   "execution_count": null,
   "id": "1b03d674",
   "metadata": {},
   "outputs": [],
   "source": []
  },
  {
   "cell_type": "markdown",
   "id": "af5f0bad",
   "metadata": {},
   "source": [
    "## Task 3: Model Development and Training"
   ]
  },
  {
   "cell_type": "markdown",
   "id": "cbd10267",
   "metadata": {},
   "source": [
    "1. Which model should we use for this competition and why?"
   ]
  },
  {
   "cell_type": "markdown",
   "id": "e869e975",
   "metadata": {},
   "source": []
  },
  {
   "cell_type": "markdown",
   "id": "016c364f",
   "metadata": {},
   "source": [
    "2. Suppose your are using Random Forest model, what strategies can we use to prevent overfitting in this competition?"
   ]
  },
  {
   "cell_type": "code",
   "execution_count": null,
   "id": "96198df0",
   "metadata": {},
   "outputs": [],
   "source": []
  },
  {
   "cell_type": "markdown",
   "id": "c64b8d6d",
   "metadata": {},
   "source": [
    "## Task 4: Model Evaluation and Prediction"
   ]
  },
  {
   "cell_type": "markdown",
   "id": "03cc3855",
   "metadata": {},
   "source": [
    "1. What evaluation metrics should be used to assess the performance of the models in this specific task?"
   ]
  },
  {
   "cell_type": "code",
   "execution_count": null,
   "id": "28033fe7",
   "metadata": {},
   "outputs": [],
   "source": []
  },
  {
   "cell_type": "markdown",
   "id": "04dd8c86",
   "metadata": {},
   "source": [
    "2. Suppose you are using the Random Forest model. After initial model training and evaluation, what strategies can further improve the model's performance? "
   ]
  },
  {
   "cell_type": "code",
   "execution_count": null,
   "id": "6a9316b4",
   "metadata": {},
   "outputs": [],
   "source": []
  }
 ],
 "metadata": {
  "kernelspec": {
   "display_name": "Python 3 (ipykernel)",
   "language": "python",
   "name": "python3"
  },
  "language_info": {
   "codemirror_mode": {
    "name": "ipython",
    "version": 3
   },
   "file_extension": ".py",
   "mimetype": "text/x-python",
   "name": "python",
   "nbconvert_exporter": "python",
   "pygments_lexer": "ipython3",
   "version": "3.12.4"
  }
 },
 "nbformat": 4,
 "nbformat_minor": 5
}
